{
 "cells": [
  {
   "cell_type": "code",
   "execution_count": 2,
   "id": "a6994690",
   "metadata": {},
   "outputs": [],
   "source": [
    "import numpy as np\n",
    "import random"
   ]
  },
  {
   "cell_type": "code",
   "execution_count": 3,
   "id": "26ce1b2f",
   "metadata": {},
   "outputs": [],
   "source": [
    "np.random.seed(42)"
   ]
  },
  {
   "cell_type": "code",
   "execution_count": 25,
   "id": "434f76b1",
   "metadata": {},
   "outputs": [],
   "source": [
    "def sigmoid(z):\n",
    "    return 1.0/(1.0+np.exp(-z))"
   ]
  },
  {
   "cell_type": "code",
   "execution_count": null,
   "id": "0edd4873",
   "metadata": {},
   "outputs": [],
   "source": [
    "class Network:\n",
    "    def __init__(self, sizes):\n",
    "        \"\"\"\n",
    "        sizes : [] list of num of neurons in each layer. First Layer is input layer.\n",
    "        \"\"\"\n",
    "        self.num_layers = len(sizes)\n",
    "        self.sizes = sizes\n",
    "        self.biases = [np.random.randn(y, 1) for y in sizes[1:]] # ignore the 1st layer as input layer\n",
    "        self.weights = [np.random.randn(self.sizes[x+1], self.sizes[x]) for x in range(0, self.num_layers-1)]\n",
    "    \n",
    "    def feed_forward(self, a):\n",
    "        \"\"\"Calculates the output of the network by going in forward direction\"\"\"\n",
    "        for b, w in zip(self.biases, self.weights):\n",
    "            z = np.dot(w, a) + b\n",
    "            a = sigmoid(z)\n",
    "        return a\n",
    "    \n",
    "    "
   ]
  },
  {
   "cell_type": "code",
   "execution_count": 17,
   "id": "bb340ee3",
   "metadata": {},
   "outputs": [],
   "source": [
    "sizes = [3, 4, 4, 1]\n",
    "nn = Network(sizes)"
   ]
  },
  {
   "cell_type": "code",
   "execution_count": 23,
   "id": "75b37648",
   "metadata": {},
   "outputs": [
    {
     "name": "stdout",
     "output_type": "stream",
     "text": [
      "num of layers 4\n",
      "size of each layer [3, 4, 4, 1]\n",
      "bias of network\n",
      " [array([[ 0.49671415],\n",
      "       [-0.1382643 ],\n",
      "       [ 0.64768854],\n",
      "       [ 1.52302986]]), array([[-0.23415337],\n",
      "       [-0.23413696],\n",
      "       [ 1.57921282],\n",
      "       [ 0.76743473]]), array([[-0.46947439]])]\n",
      "weights of network\n",
      " [array([[ 0.54256004, -0.46341769, -0.46572975],\n",
      "       [ 0.24196227, -1.91328024, -1.72491783],\n",
      "       [-0.56228753, -1.01283112,  0.31424733],\n",
      "       [-0.90802408, -1.4123037 ,  1.46564877]]), array([[-0.2257763 ,  0.0675282 , -1.42474819, -0.54438272],\n",
      "       [ 0.11092259, -1.15099358,  0.37569802, -0.60063869],\n",
      "       [-0.29169375, -0.60170661,  1.85227818, -0.01349722],\n",
      "       [-1.05771093,  0.82254491, -1.22084365,  0.2088636 ]]), array([[-1.95967012, -1.32818605,  0.19686124,  0.73846658]])]\n"
     ]
    }
   ],
   "source": [
    "print(\"num of layers\", nn.num_layers)\n",
    "print(\"size of each layer\", nn.sizes)\n",
    "print(\"bias of network\\n\", nn.biases)\n",
    "print(\"weights of network\\n\", nn.weights)"
   ]
  },
  {
   "cell_type": "code",
   "execution_count": null,
   "id": "4fdc50c5",
   "metadata": {},
   "outputs": [],
   "source": []
  }
 ],
 "metadata": {
  "kernelspec": {
   "display_name": "deeplearning",
   "language": "python",
   "name": "python3"
  },
  "language_info": {
   "codemirror_mode": {
    "name": "ipython",
    "version": 3
   },
   "file_extension": ".py",
   "mimetype": "text/x-python",
   "name": "python",
   "nbconvert_exporter": "python",
   "pygments_lexer": "ipython3",
   "version": "3.12.9"
  }
 },
 "nbformat": 4,
 "nbformat_minor": 5
}
