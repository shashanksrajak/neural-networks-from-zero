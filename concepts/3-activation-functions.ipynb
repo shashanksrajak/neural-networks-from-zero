{
 "cells": [
  {
   "cell_type": "markdown",
   "id": "bd4c9712",
   "metadata": {},
   "source": [
    "## Activation Functions"
   ]
  },
  {
   "cell_type": "markdown",
   "id": "4da99490",
   "metadata": {},
   "source": [
    "### ArgMax and SoftMax"
   ]
  },
  {
   "cell_type": "code",
   "execution_count": 1,
   "id": "c0e037b3",
   "metadata": {},
   "outputs": [],
   "source": [
    "import numpy as np"
   ]
  },
  {
   "cell_type": "code",
   "execution_count": 2,
   "id": "78a5dae1",
   "metadata": {},
   "outputs": [],
   "source": [
    "output = np.array([0.34, 1.43, -0.6])"
   ]
  },
  {
   "cell_type": "markdown",
   "id": "2bf4b44d",
   "metadata": {},
   "source": [
    "First try to find `ArgMax` which is nothing but the max value. Usually, we will pass our output to this function and get a final class with maximum likelihood.\n",
    "\n",
    "But we won't use it in training, because its derivative is zero."
   ]
  },
  {
   "cell_type": "code",
   "execution_count": 3,
   "id": "dd91fed1",
   "metadata": {},
   "outputs": [
    {
     "data": {
      "text/plain": [
       "np.int64(1)"
      ]
     },
     "execution_count": 3,
     "metadata": {},
     "output_type": "execute_result"
    }
   ],
   "source": [
    "np.argmax(output)"
   ]
  },
  {
   "cell_type": "markdown",
   "id": "3c7e4ea8",
   "metadata": {},
   "source": [
    "Next, we have `SoftMax` function, which help us determine probabilities of different classes and we can use it in training as well.\n",
    "Generally, we will use it in multiclass classification like we have different flowers species to classifiy."
   ]
  },
  {
   "cell_type": "code",
   "execution_count": null,
   "id": "43a185c4",
   "metadata": {},
   "outputs": [],
   "source": [
    "def softmax(output):\n",
    "   d = np.sum(np.exp(output))\n",
    "   n = np.exp(output)\n",
    "   result = n/d\n",
    "   return result"
   ]
  },
  {
   "cell_type": "code",
   "execution_count": 7,
   "id": "93e13ece",
   "metadata": {},
   "outputs": [
    {
     "data": {
      "text/plain": [
       "array([0.22910022, 0.68140685, 0.08949292])"
      ]
     },
     "execution_count": 7,
     "metadata": {},
     "output_type": "execute_result"
    }
   ],
   "source": [
    "softmax_output = softmax(output)\n",
    "softmax_output"
   ]
  },
  {
   "cell_type": "code",
   "execution_count": 8,
   "id": "25159fb0",
   "metadata": {},
   "outputs": [
    {
     "data": {
      "text/plain": [
       "np.float64(1.0)"
      ]
     },
     "execution_count": 8,
     "metadata": {},
     "output_type": "execute_result"
    }
   ],
   "source": [
    "np.sum(softmax_output)"
   ]
  },
  {
   "cell_type": "markdown",
   "id": "2feca7ee",
   "metadata": {},
   "source": [
    "While the sum of `output` might not be 1, the sum of `softmax_output` will always be 1 because of the maths it uses."
   ]
  },
  {
   "cell_type": "code",
   "execution_count": 9,
   "id": "239e4403",
   "metadata": {},
   "outputs": [
    {
     "data": {
      "text/plain": [
       "np.int64(1)"
      ]
     },
     "execution_count": 9,
     "metadata": {},
     "output_type": "execute_result"
    }
   ],
   "source": [
    "np.argmax(softmax_output)"
   ]
  }
 ],
 "metadata": {
  "kernelspec": {
   "display_name": ".venv",
   "language": "python",
   "name": "python3"
  },
  "language_info": {
   "codemirror_mode": {
    "name": "ipython",
    "version": 3
   },
   "file_extension": ".py",
   "mimetype": "text/x-python",
   "name": "python",
   "nbconvert_exporter": "python",
   "pygments_lexer": "ipython3",
   "version": "3.11.12"
  }
 },
 "nbformat": 4,
 "nbformat_minor": 5
}
