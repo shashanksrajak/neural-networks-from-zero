{
 "cells": [
  {
   "cell_type": "markdown",
   "id": "2c30bfee",
   "metadata": {},
   "source": [
    "### Neural Network Basics"
   ]
  },
  {
   "cell_type": "code",
   "execution_count": 1,
   "id": "e528999f",
   "metadata": {},
   "outputs": [],
   "source": [
    "# imports\n",
    "import numpy as np"
   ]
  },
  {
   "cell_type": "markdown",
   "id": "8ea51701",
   "metadata": {},
   "source": [
    "### Perceptron\n",
    "Consider we have 2 inputs (x1 and x2) and 3 fully connected neurons (1, 2 and 3).\n",
    "\n",
    "X : Input matrix, each row is one example and each column is one feature"
   ]
  },
  {
   "cell_type": "code",
   "execution_count": 3,
   "id": "3fa0749c",
   "metadata": {},
   "outputs": [
    {
     "data": {
      "text/plain": [
       "array([[ 2,  4],\n",
       "       [ 5,  8],\n",
       "       [ 9, 12]])"
      ]
     },
     "execution_count": 3,
     "metadata": {},
     "output_type": "execute_result"
    }
   ],
   "source": [
    "# Input features\n",
    "\n",
    "X = np.array([[2, 4], [5, 8], [9, 12]])\n",
    "X"
   ]
  },
  {
   "cell_type": "markdown",
   "id": "114c9f48",
   "metadata": {},
   "source": [
    "W : Weight matrix, each row contains weights corresponding to one feature (check column in X) e.g. w1 for x1, but each column contain weights for each neuron. As many neurons, as many weight columns"
   ]
  },
  {
   "cell_type": "code",
   "execution_count": 12,
   "id": "db07f5b6",
   "metadata": {},
   "outputs": [
    {
     "data": {
      "text/plain": [
       "array([[1.5, 2.5, 1.2],\n",
       "       [0.5, 0.8, 0.3]])"
      ]
     },
     "execution_count": 12,
     "metadata": {},
     "output_type": "execute_result"
    }
   ],
   "source": [
    "W = np.array([[1.5, 2.5, 1.2], [0.5, 0.8, 0.3]])\n",
    "W"
   ]
  },
  {
   "cell_type": "code",
   "execution_count": 13,
   "id": "83f9e9af",
   "metadata": {},
   "outputs": [
    {
     "data": {
      "text/plain": [
       "array([2, 4, 6])"
      ]
     },
     "execution_count": 13,
     "metadata": {},
     "output_type": "execute_result"
    }
   ],
   "source": [
    "# bias term\n",
    "b = np.array([2, 4, 6])\n",
    "b"
   ]
  },
  {
   "cell_type": "markdown",
   "id": "98c2c1a6",
   "metadata": {},
   "source": [
    "So 1.5 -> 2 and 0.5 -> 4 for neuron 1."
   ]
  },
  {
   "cell_type": "markdown",
   "id": "63af0226",
   "metadata": {},
   "source": [
    "The final output is given as h = activation_function(z)\n",
    "\n",
    "z = XW + b"
   ]
  },
  {
   "cell_type": "code",
   "execution_count": 14,
   "id": "de290f9f",
   "metadata": {},
   "outputs": [
    {
     "data": {
      "text/plain": [
       "array([[ 7. , 12.2,  9.6],\n",
       "       [13.5, 22.9, 14.4],\n",
       "       [21.5, 36.1, 20.4]])"
      ]
     },
     "execution_count": 14,
     "metadata": {},
     "output_type": "execute_result"
    }
   ],
   "source": [
    "z = np.matmul(X, W) + b\n",
    "z"
   ]
  }
 ],
 "metadata": {
  "kernelspec": {
   "display_name": ".venv",
   "language": "python",
   "name": "python3"
  },
  "language_info": {
   "codemirror_mode": {
    "name": "ipython",
    "version": 3
   },
   "file_extension": ".py",
   "mimetype": "text/x-python",
   "name": "python",
   "nbconvert_exporter": "python",
   "pygments_lexer": "ipython3",
   "version": "3.11.12"
  }
 },
 "nbformat": 4,
 "nbformat_minor": 5
}
