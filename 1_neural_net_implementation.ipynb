{
  "nbformat": 4,
  "nbformat_minor": 0,
  "metadata": {
    "colab": {
      "provenance": [],
      "authorship_tag": "ABX9TyNzy4Cr3tBq0hegDnHjlc3S",
      "include_colab_link": true
    },
    "kernelspec": {
      "name": "python3",
      "display_name": "Python 3"
    },
    "language_info": {
      "name": "python"
    }
  },
  "cells": [
    {
      "cell_type": "markdown",
      "metadata": {
        "id": "view-in-github",
        "colab_type": "text"
      },
      "source": [
        "<a href=\"https://colab.research.google.com/github/shashanksrajak/neural-networks-from-zero/blob/main/1_neural_net_implementation.ipynb\" target=\"_parent\"><img src=\"https://colab.research.google.com/assets/colab-badge.svg\" alt=\"Open In Colab\"/></a>"
      ]
    },
    {
      "cell_type": "markdown",
      "source": [
        "# Implementing Neural Network from Scratch\n",
        "The goal is to understand neural network and its inner working and then build one from scratch using all the mathematical concepts and tools."
      ],
      "metadata": {
        "id": "klh270XrF4Qz"
      }
    },
    {
      "cell_type": "code",
      "source": [
        "import random\n",
        "import math\n",
        "import numpy as np"
      ],
      "metadata": {
        "id": "pBcnO7czHMK1"
      },
      "execution_count": 2,
      "outputs": []
    },
    {
      "cell_type": "markdown",
      "source": [
        "## Single Neuron"
      ],
      "metadata": {
        "id": "u7LhQKB4GJZp"
      }
    },
    {
      "cell_type": "code",
      "source": [
        "class Neuron:\n",
        "  def __init__(self, nin):\n",
        "    \"\"\"\n",
        "    A single neuron\n",
        "    nin : number of inputs to this neuron\n",
        "    \"\"\"\n",
        "    self.w = np.array([random.uniform(-1, 1) for _ in range(nin)]) # weights\n",
        "    self.b = random.uniform(-1, 1) # bias term\n",
        "\n",
        "  def __call__(self, x):\n",
        "    wx = self.w * x\n",
        "    z = sum(wx, self.b) # z = wx + b\n",
        "    a = 1/(1+math.exp(-z))    # we are using sigmoid function but this can also be a user choice\n",
        "\n",
        "    self.out = a\n",
        "    return a"
      ],
      "metadata": {
        "id": "bBirH97OGIlB"
      },
      "execution_count": 7,
      "outputs": []
    },
    {
      "cell_type": "code",
      "execution_count": 8,
      "metadata": {
        "id": "jksRZKe6Fv7K"
      },
      "outputs": [],
      "source": [
        "n = Neuron(3)"
      ]
    },
    {
      "cell_type": "code",
      "source": [
        "# sample input\n",
        "x = np.array([random.randint(1, 10) for _ in range(3)])\n",
        "x"
      ],
      "metadata": {
        "colab": {
          "base_uri": "https://localhost:8080/"
        },
        "id": "k1HmgsQYKfVC",
        "outputId": "9b61bb92-f97e-4720-8e61-2d40aeea4da4"
      },
      "execution_count": 13,
      "outputs": [
        {
          "output_type": "execute_result",
          "data": {
            "text/plain": [
              "array([ 5, 10,  1])"
            ]
          },
          "metadata": {},
          "execution_count": 13
        }
      ]
    },
    {
      "cell_type": "code",
      "source": [
        "n(x)"
      ],
      "metadata": {
        "colab": {
          "base_uri": "https://localhost:8080/"
        },
        "id": "0jJ4hLflKxgM",
        "outputId": "d321da65-2599-42bb-8d1a-e664e91e2e64"
      },
      "execution_count": 14,
      "outputs": [
        {
          "output_type": "execute_result",
          "data": {
            "text/plain": [
              "0.9878307196697438"
            ]
          },
          "metadata": {},
          "execution_count": 14
        }
      ]
    },
    {
      "cell_type": "code",
      "source": [
        "n.w"
      ],
      "metadata": {
        "colab": {
          "base_uri": "https://localhost:8080/"
        },
        "id": "FRUOXBEoLC9N",
        "outputId": "701c6f9b-193c-4b66-db14-e280f48a4f3c"
      },
      "execution_count": 15,
      "outputs": [
        {
          "output_type": "execute_result",
          "data": {
            "text/plain": [
              "array([-0.77995667,  0.94358218, -0.87519861])"
            ]
          },
          "metadata": {},
          "execution_count": 15
        }
      ]
    },
    {
      "cell_type": "code",
      "source": [
        "n.b"
      ],
      "metadata": {
        "colab": {
          "base_uri": "https://localhost:8080/"
        },
        "id": "rPNCHS0uLHha",
        "outputId": "a1f7d2dc-80fa-4bd2-c580-1aed67dce326"
      },
      "execution_count": 16,
      "outputs": [
        {
          "output_type": "execute_result",
          "data": {
            "text/plain": [
              "-0.26424324169995606"
            ]
          },
          "metadata": {},
          "execution_count": 16
        }
      ]
    },
    {
      "cell_type": "code",
      "source": [
        "n.out"
      ],
      "metadata": {
        "colab": {
          "base_uri": "https://localhost:8080/"
        },
        "id": "bO20PFMdLItp",
        "outputId": "84406193-3e31-4d79-c8b6-68eac85d97db"
      },
      "execution_count": 17,
      "outputs": [
        {
          "output_type": "execute_result",
          "data": {
            "text/plain": [
              "0.9878307196697438"
            ]
          },
          "metadata": {},
          "execution_count": 17
        }
      ]
    },
    {
      "cell_type": "code",
      "source": [],
      "metadata": {
        "id": "H259egxlLJmk"
      },
      "execution_count": null,
      "outputs": []
    }
  ]
}