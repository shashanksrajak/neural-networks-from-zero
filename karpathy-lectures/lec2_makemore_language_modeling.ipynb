{
 "cells": [
  {
   "cell_type": "markdown",
   "id": "7d47d255",
   "metadata": {},
   "source": [
    "# Lec 2: Building Makemore - Intro to Language Modeling"
   ]
  },
  {
   "cell_type": "markdown",
   "id": "afe605ec",
   "metadata": {},
   "source": []
  }
 ],
 "metadata": {
  "language_info": {
   "name": "python"
  }
 },
 "nbformat": 4,
 "nbformat_minor": 5
}
