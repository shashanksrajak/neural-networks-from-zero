{
  "cells": [
    {
      "cell_type": "markdown",
      "metadata": {
        "id": "view-in-github",
        "colab_type": "text"
      },
      "source": [
        "<a href=\"https://colab.research.google.com/github/shashanksrajak/neural-networks-from-zero/blob/main/hands-on/ch12-custom-models-tensorflow-intro.ipynb\" target=\"_parent\"><img src=\"https://colab.research.google.com/assets/colab-badge.svg\" alt=\"Open In Colab\"/></a>"
      ]
    },
    {
      "cell_type": "markdown",
      "id": "e88f6f1e",
      "metadata": {
        "id": "e88f6f1e"
      },
      "source": [
        "## Custom Models and Training with TensorFlow\n",
        "This chapter goes deeper into TensorFlow framework and its low level Python APIs. This is useful in two ways - first, we get to learn TensorFlow as it is in its pure form (Keras it a High Level API), second this basic knowledge helps us to take full control of the training flow, we can write custom functions, make our own transformations, optimizers, gradient descent etc etc."
      ]
    },
    {
      "cell_type": "markdown",
      "id": "a7e37a28",
      "metadata": {
        "id": "a7e37a28"
      },
      "source": [
        "## Tensorflow\n",
        "- its a computational library, particularly well suited for large ML problems.\n",
        "- developed by Google and powers lot of its services like photos, speech etc.\n",
        "- open sourced in 2015 and now its the most widely used deep learning library.\n",
        "\n",
        "### What does it offer?\n",
        "1. the core is very similar to NumPy + GPU Support for super computations (PyTorch also has similar capability)\n",
        "2. distributed computing\n",
        "3. uses JIT compiler to optimize computations\n",
        "4. reverse mode autodiff\n",
        "5. computation graph can be exported to a portable format"
      ]
    },
    {
      "cell_type": "code",
      "source": [
        "import tensorflow as tf"
      ],
      "metadata": {
        "id": "cHzohc5Cpx04"
      },
      "id": "cHzohc5Cpx04",
      "execution_count": 1,
      "outputs": []
    },
    {
      "cell_type": "markdown",
      "source": [
        "## Using TF like NumPy"
      ],
      "metadata": {
        "id": "k8uhMYgKurRB"
      },
      "id": "k8uhMYgKurRB"
    },
    {
      "cell_type": "markdown",
      "source": [
        "### Tensors & Operations\n",
        "`tf.constant()` works like numpy and creates a tensor"
      ],
      "metadata": {
        "id": "aqUZcbt_uxco"
      },
      "id": "aqUZcbt_uxco"
    },
    {
      "cell_type": "code",
      "source": [
        "# create a tensor\n",
        "t = tf.constant(42)\n",
        "t"
      ],
      "metadata": {
        "id": "XEG3t-hxuQdb",
        "outputId": "816eecb5-32de-4008-df4e-002e22d89baa",
        "colab": {
          "base_uri": "https://localhost:8080/"
        }
      },
      "id": "XEG3t-hxuQdb",
      "execution_count": 4,
      "outputs": [
        {
          "output_type": "execute_result",
          "data": {
            "text/plain": [
              "<tf.Tensor: shape=(), dtype=int32, numpy=42>"
            ]
          },
          "metadata": {},
          "execution_count": 4
        }
      ]
    },
    {
      "cell_type": "code",
      "source": [
        "t = tf.constant([[1., 2., 3.], [4., 5. ,6.]])\n",
        "t"
      ],
      "metadata": {
        "id": "fADePQrZvVJi",
        "outputId": "95a3e3d2-1c7c-4232-a97f-0e2620d7554e",
        "colab": {
          "base_uri": "https://localhost:8080/"
        }
      },
      "id": "fADePQrZvVJi",
      "execution_count": 5,
      "outputs": [
        {
          "output_type": "execute_result",
          "data": {
            "text/plain": [
              "<tf.Tensor: shape=(2, 3), dtype=float32, numpy=\n",
              "array([[1., 2., 3.],\n",
              "       [4., 5., 6.]], dtype=float32)>"
            ]
          },
          "metadata": {},
          "execution_count": 5
        }
      ]
    },
    {
      "cell_type": "code",
      "source": [
        "t.shape"
      ],
      "metadata": {
        "id": "S6xKOgVzvsDy",
        "outputId": "757cf168-2929-41e5-b05b-fcf8e98d2c23",
        "colab": {
          "base_uri": "https://localhost:8080/"
        }
      },
      "id": "S6xKOgVzvsDy",
      "execution_count": 6,
      "outputs": [
        {
          "output_type": "execute_result",
          "data": {
            "text/plain": [
              "TensorShape([2, 3])"
            ]
          },
          "metadata": {},
          "execution_count": 6
        }
      ]
    },
    {
      "cell_type": "code",
      "source": [
        "t.dtype"
      ],
      "metadata": {
        "id": "sNQMxI9Vv2qr",
        "outputId": "8ca27725-67fc-4ac9-9932-465bd34fa4b7",
        "colab": {
          "base_uri": "https://localhost:8080/"
        }
      },
      "id": "sNQMxI9Vv2qr",
      "execution_count": 7,
      "outputs": [
        {
          "output_type": "execute_result",
          "data": {
            "text/plain": [
              "tf.float32"
            ]
          },
          "metadata": {},
          "execution_count": 7
        }
      ]
    },
    {
      "cell_type": "code",
      "source": [
        "t.ndim"
      ],
      "metadata": {
        "id": "kvasyYa6v4rW",
        "outputId": "9ad19839-0e81-4461-9e1f-7827b8642530",
        "colab": {
          "base_uri": "https://localhost:8080/"
        }
      },
      "id": "kvasyYa6v4rW",
      "execution_count": 8,
      "outputs": [
        {
          "output_type": "execute_result",
          "data": {
            "text/plain": [
              "2"
            ]
          },
          "metadata": {},
          "execution_count": 8
        }
      ]
    },
    {
      "cell_type": "code",
      "source": [
        "# indexing\n",
        "t[0:1, :] # only the 1st row"
      ],
      "metadata": {
        "id": "S8GPi44Fv6MK",
        "outputId": "1caf2d89-9747-4c30-ae09-448e22c633b4",
        "colab": {
          "base_uri": "https://localhost:8080/"
        }
      },
      "id": "S8GPi44Fv6MK",
      "execution_count": 12,
      "outputs": [
        {
          "output_type": "execute_result",
          "data": {
            "text/plain": [
              "<tf.Tensor: shape=(1, 3), dtype=float32, numpy=array([[1., 2., 3.]], dtype=float32)>"
            ]
          },
          "metadata": {},
          "execution_count": 12
        }
      ]
    },
    {
      "cell_type": "code",
      "source": [
        "t[..., 1, tf.newaxis]"
      ],
      "metadata": {
        "id": "UphiBMZBwR2M",
        "outputId": "b4bec411-e53e-492f-86c4-4e27ca2bb8cf",
        "colab": {
          "base_uri": "https://localhost:8080/"
        }
      },
      "id": "UphiBMZBwR2M",
      "execution_count": 15,
      "outputs": [
        {
          "output_type": "execute_result",
          "data": {
            "text/plain": [
              "<tf.Tensor: shape=(2, 1), dtype=float32, numpy=\n",
              "array([[2.],\n",
              "       [5.]], dtype=float32)>"
            ]
          },
          "metadata": {},
          "execution_count": 15
        }
      ]
    },
    {
      "cell_type": "markdown",
      "source": [
        "Mathematical ops"
      ],
      "metadata": {
        "id": "siMRW3C6w4F-"
      },
      "id": "siMRW3C6w4F-"
    },
    {
      "cell_type": "code",
      "source": [
        "t + 10"
      ],
      "metadata": {
        "id": "lABXGvJjwrw8",
        "outputId": "82094b14-f8b9-4a97-a487-d33b7eae5132",
        "colab": {
          "base_uri": "https://localhost:8080/"
        }
      },
      "id": "lABXGvJjwrw8",
      "execution_count": 16,
      "outputs": [
        {
          "output_type": "execute_result",
          "data": {
            "text/plain": [
              "<tf.Tensor: shape=(2, 3), dtype=float32, numpy=\n",
              "array([[11., 12., 13.],\n",
              "       [14., 15., 16.]], dtype=float32)>"
            ]
          },
          "metadata": {},
          "execution_count": 16
        }
      ]
    },
    {
      "cell_type": "code",
      "source": [
        "tf.square(t)"
      ],
      "metadata": {
        "id": "y3l_dV14w6Jp",
        "outputId": "c76a8e7c-998c-4b9d-e095-2cede2145d7c",
        "colab": {
          "base_uri": "https://localhost:8080/"
        }
      },
      "id": "y3l_dV14w6Jp",
      "execution_count": 17,
      "outputs": [
        {
          "output_type": "execute_result",
          "data": {
            "text/plain": [
              "<tf.Tensor: shape=(2, 3), dtype=float32, numpy=\n",
              "array([[ 1.,  4.,  9.],\n",
              "       [16., 25., 36.]], dtype=float32)>"
            ]
          },
          "metadata": {},
          "execution_count": 17
        }
      ]
    },
    {
      "cell_type": "code",
      "source": [
        "t @ tf.transpose(t)"
      ],
      "metadata": {
        "id": "jTTEHeEaw--S",
        "outputId": "42e1a89c-1252-45e3-9880-e20d58113d7b",
        "colab": {
          "base_uri": "https://localhost:8080/"
        }
      },
      "id": "jTTEHeEaw--S",
      "execution_count": 18,
      "outputs": [
        {
          "output_type": "execute_result",
          "data": {
            "text/plain": [
              "<tf.Tensor: shape=(2, 2), dtype=float32, numpy=\n",
              "array([[14., 32.],\n",
              "       [32., 77.]], dtype=float32)>"
            ]
          },
          "metadata": {},
          "execution_count": 18
        }
      ]
    },
    {
      "cell_type": "markdown",
      "source": [
        "### Tensors & NumPy"
      ],
      "metadata": {
        "id": "1N1UP992yGB_"
      },
      "id": "1N1UP992yGB_"
    },
    {
      "cell_type": "code",
      "source": [
        "import numpy as np"
      ],
      "metadata": {
        "id": "IdUniadHxEJ2"
      },
      "id": "IdUniadHxEJ2",
      "execution_count": 19,
      "outputs": []
    },
    {
      "cell_type": "code",
      "source": [
        "a = np.array([2, 3, 4], dtype=float)\n",
        "a"
      ],
      "metadata": {
        "id": "ZAhowWrTyJXy",
        "outputId": "21cc4d1c-ad27-498d-af7a-8f48735877e9",
        "colab": {
          "base_uri": "https://localhost:8080/"
        }
      },
      "id": "ZAhowWrTyJXy",
      "execution_count": 21,
      "outputs": [
        {
          "output_type": "execute_result",
          "data": {
            "text/plain": [
              "array([2., 3., 4.])"
            ]
          },
          "metadata": {},
          "execution_count": 21
        }
      ]
    },
    {
      "cell_type": "code",
      "source": [
        "tf.constant(a) # we can pass a numpy array to tensot"
      ],
      "metadata": {
        "id": "xzyozZH3yPGi",
        "outputId": "248c3c0c-7a37-4f55-ad39-8e9b612180d8",
        "colab": {
          "base_uri": "https://localhost:8080/"
        }
      },
      "id": "xzyozZH3yPGi",
      "execution_count": 26,
      "outputs": [
        {
          "output_type": "execute_result",
          "data": {
            "text/plain": [
              "<tf.Tensor: shape=(3,), dtype=float64, numpy=array([2., 3., 4.])>"
            ]
          },
          "metadata": {},
          "execution_count": 26
        }
      ]
    },
    {
      "cell_type": "code",
      "source": [
        "# we can also get a numpy array from a tensor\n",
        "\n",
        "t.numpy()"
      ],
      "metadata": {
        "id": "g6_5cP2PyUjw",
        "outputId": "b39a7e9a-336e-4e2b-c1d2-404198387a14",
        "colab": {
          "base_uri": "https://localhost:8080/"
        }
      },
      "id": "g6_5cP2PyUjw",
      "execution_count": 27,
      "outputs": [
        {
          "output_type": "execute_result",
          "data": {
            "text/plain": [
              "array([[1., 2., 3.],\n",
              "       [4., 5., 6.]], dtype=float32)"
            ]
          },
          "metadata": {},
          "execution_count": 27
        }
      ]
    },
    {
      "cell_type": "code",
      "source": [
        "tf.square(a)"
      ],
      "metadata": {
        "id": "_xApQILmynG5",
        "outputId": "41d91ef3-5ff2-41ab-f2bc-bedaaf140091",
        "colab": {
          "base_uri": "https://localhost:8080/"
        }
      },
      "id": "_xApQILmynG5",
      "execution_count": 28,
      "outputs": [
        {
          "output_type": "execute_result",
          "data": {
            "text/plain": [
              "<tf.Tensor: shape=(3,), dtype=float64, numpy=array([ 4.,  9., 16.])>"
            ]
          },
          "metadata": {},
          "execution_count": 28
        }
      ]
    },
    {
      "cell_type": "markdown",
      "source": [
        "Numpy can handle data from other libraries and below code shows how easy it is to operate between TensorFlow and NumPy"
      ],
      "metadata": {
        "id": "HWApcP5FzFr5"
      },
      "id": "HWApcP5FzFr5"
    },
    {
      "cell_type": "code",
      "source": [
        "np.square(t) # this is interesting because we passed a tensor to a numpy method and it just works fine"
      ],
      "metadata": {
        "id": "UEw3_PmOytrT",
        "outputId": "852bc40b-ddcf-4ee7-cc84-9cfd95fe83b1",
        "colab": {
          "base_uri": "https://localhost:8080/"
        }
      },
      "id": "UEw3_PmOytrT",
      "execution_count": 30,
      "outputs": [
        {
          "output_type": "execute_result",
          "data": {
            "text/plain": [
              "array([[ 1.,  4.,  9.],\n",
              "       [16., 25., 36.]], dtype=float32)"
            ]
          },
          "metadata": {},
          "execution_count": 30
        }
      ]
    },
    {
      "cell_type": "markdown",
      "source": [
        "### Type Conversion"
      ],
      "metadata": {
        "id": "7rwR2EC6zobA"
      },
      "id": "7rwR2EC6zobA"
    },
    {
      "cell_type": "code",
      "source": [
        "t1 = tf.constant(42)\n",
        "t2 = tf.constant(2.)"
      ],
      "metadata": {
        "id": "pLo5Li-ayvov"
      },
      "id": "pLo5Li-ayvov",
      "execution_count": 31,
      "outputs": []
    },
    {
      "cell_type": "code",
      "source": [
        "t1 + t2"
      ],
      "metadata": {
        "id": "3NSQKodczvbZ",
        "outputId": "c9b59584-1f39-4016-874c-7cc98ec6d847",
        "colab": {
          "base_uri": "https://localhost:8080/",
          "height": 282
        }
      },
      "id": "3NSQKodczvbZ",
      "execution_count": 32,
      "outputs": [
        {
          "output_type": "error",
          "ename": "InvalidArgumentError",
          "evalue": "cannot compute AddV2 as input #1(zero-based) was expected to be a int32 tensor but is a float tensor [Op:AddV2] name: ",
          "traceback": [
            "\u001b[0;31m---------------------------------------------------------------------------\u001b[0m",
            "\u001b[0;31mInvalidArgumentError\u001b[0m                      Traceback (most recent call last)",
            "\u001b[0;32m<ipython-input-32-2420055791>\u001b[0m in \u001b[0;36m<cell line: 0>\u001b[0;34m()\u001b[0m\n\u001b[0;32m----> 1\u001b[0;31m \u001b[0mt1\u001b[0m \u001b[0;34m+\u001b[0m \u001b[0mt2\u001b[0m\u001b[0;34m\u001b[0m\u001b[0;34m\u001b[0m\u001b[0m\n\u001b[0m",
            "\u001b[0;32m/usr/local/lib/python3.11/dist-packages/tensorflow/python/util/traceback_utils.py\u001b[0m in \u001b[0;36merror_handler\u001b[0;34m(*args, **kwargs)\u001b[0m\n\u001b[1;32m    151\u001b[0m     \u001b[0;32mexcept\u001b[0m \u001b[0mException\u001b[0m \u001b[0;32mas\u001b[0m \u001b[0me\u001b[0m\u001b[0;34m:\u001b[0m\u001b[0;34m\u001b[0m\u001b[0;34m\u001b[0m\u001b[0m\n\u001b[1;32m    152\u001b[0m       \u001b[0mfiltered_tb\u001b[0m \u001b[0;34m=\u001b[0m \u001b[0m_process_traceback_frames\u001b[0m\u001b[0;34m(\u001b[0m\u001b[0me\u001b[0m\u001b[0;34m.\u001b[0m\u001b[0m__traceback__\u001b[0m\u001b[0;34m)\u001b[0m\u001b[0;34m\u001b[0m\u001b[0;34m\u001b[0m\u001b[0m\n\u001b[0;32m--> 153\u001b[0;31m       \u001b[0;32mraise\u001b[0m \u001b[0me\u001b[0m\u001b[0;34m.\u001b[0m\u001b[0mwith_traceback\u001b[0m\u001b[0;34m(\u001b[0m\u001b[0mfiltered_tb\u001b[0m\u001b[0;34m)\u001b[0m \u001b[0;32mfrom\u001b[0m \u001b[0;32mNone\u001b[0m\u001b[0;34m\u001b[0m\u001b[0;34m\u001b[0m\u001b[0m\n\u001b[0m\u001b[1;32m    154\u001b[0m     \u001b[0;32mfinally\u001b[0m\u001b[0;34m:\u001b[0m\u001b[0;34m\u001b[0m\u001b[0;34m\u001b[0m\u001b[0m\n\u001b[1;32m    155\u001b[0m       \u001b[0;32mdel\u001b[0m \u001b[0mfiltered_tb\u001b[0m\u001b[0;34m\u001b[0m\u001b[0;34m\u001b[0m\u001b[0m\n",
            "\u001b[0;32m/usr/local/lib/python3.11/dist-packages/tensorflow/python/framework/ops.py\u001b[0m in \u001b[0;36mraise_from_not_ok_status\u001b[0;34m(e, name)\u001b[0m\n\u001b[1;32m   6000\u001b[0m \u001b[0;32mdef\u001b[0m \u001b[0mraise_from_not_ok_status\u001b[0m\u001b[0;34m(\u001b[0m\u001b[0me\u001b[0m\u001b[0;34m,\u001b[0m \u001b[0mname\u001b[0m\u001b[0;34m)\u001b[0m \u001b[0;34m->\u001b[0m \u001b[0mNoReturn\u001b[0m\u001b[0;34m:\u001b[0m\u001b[0;34m\u001b[0m\u001b[0;34m\u001b[0m\u001b[0m\n\u001b[1;32m   6001\u001b[0m   \u001b[0me\u001b[0m\u001b[0;34m.\u001b[0m\u001b[0mmessage\u001b[0m \u001b[0;34m+=\u001b[0m \u001b[0;34m(\u001b[0m\u001b[0;34m\" name: \"\u001b[0m \u001b[0;34m+\u001b[0m \u001b[0mstr\u001b[0m\u001b[0;34m(\u001b[0m\u001b[0mname\u001b[0m \u001b[0;32mif\u001b[0m \u001b[0mname\u001b[0m \u001b[0;32mis\u001b[0m \u001b[0;32mnot\u001b[0m \u001b[0;32mNone\u001b[0m \u001b[0;32melse\u001b[0m \u001b[0;34m\"\"\u001b[0m\u001b[0;34m)\u001b[0m\u001b[0;34m)\u001b[0m\u001b[0;34m\u001b[0m\u001b[0;34m\u001b[0m\u001b[0m\n\u001b[0;32m-> 6002\u001b[0;31m   \u001b[0;32mraise\u001b[0m \u001b[0mcore\u001b[0m\u001b[0;34m.\u001b[0m\u001b[0m_status_to_exception\u001b[0m\u001b[0;34m(\u001b[0m\u001b[0me\u001b[0m\u001b[0;34m)\u001b[0m \u001b[0;32mfrom\u001b[0m \u001b[0;32mNone\u001b[0m  \u001b[0;31m# pylint: disable=protected-access\u001b[0m\u001b[0;34m\u001b[0m\u001b[0;34m\u001b[0m\u001b[0m\n\u001b[0m\u001b[1;32m   6003\u001b[0m \u001b[0;34m\u001b[0m\u001b[0m\n\u001b[1;32m   6004\u001b[0m \u001b[0;34m\u001b[0m\u001b[0m\n",
            "\u001b[0;31mInvalidArgumentError\u001b[0m: cannot compute AddV2 as input #1(zero-based) was expected to be a int32 tensor but is a float tensor [Op:AddV2] name: "
          ]
        }
      ]
    },
    {
      "cell_type": "markdown",
      "source": [
        "The above error comes because TF raises error when ops between different dtypes"
      ],
      "metadata": {
        "id": "KstgFyBuzyb3"
      },
      "id": "KstgFyBuzyb3"
    },
    {
      "cell_type": "code",
      "source": [
        "t2 + tf.cast(t1, tf.float32)"
      ],
      "metadata": {
        "id": "OKshW4zhzw_Y",
        "outputId": "40861503-ed73-45d8-80a2-5b314d09e40c",
        "colab": {
          "base_uri": "https://localhost:8080/"
        }
      },
      "id": "OKshW4zhzw_Y",
      "execution_count": 33,
      "outputs": [
        {
          "output_type": "execute_result",
          "data": {
            "text/plain": [
              "<tf.Tensor: shape=(), dtype=float32, numpy=44.0>"
            ]
          },
          "metadata": {},
          "execution_count": 33
        }
      ]
    },
    {
      "cell_type": "markdown",
      "source": [
        "### Variables\n",
        "\n",
        "`tf.Tensor` objects are **immutable**\n",
        "so for a mutable data struct we need to use `tf.Variable`"
      ],
      "metadata": {
        "id": "hAXpC_AK0XHq"
      },
      "id": "hAXpC_AK0XHq"
    },
    {
      "cell_type": "code",
      "source": [
        "v = tf.Variable([[1, 2, 3], [4, 5, 6]], dtype=tf.float32)\n",
        "v"
      ],
      "metadata": {
        "id": "hLo6i0-0z_9J",
        "outputId": "be0079a8-9bf3-46c6-db3f-36102718f1e9",
        "colab": {
          "base_uri": "https://localhost:8080/"
        }
      },
      "id": "hLo6i0-0z_9J",
      "execution_count": 34,
      "outputs": [
        {
          "output_type": "execute_result",
          "data": {
            "text/plain": [
              "<tf.Variable 'Variable:0' shape=(2, 3) dtype=float32, numpy=\n",
              "array([[1., 2., 3.],\n",
              "       [4., 5., 6.]], dtype=float32)>"
            ]
          },
          "metadata": {},
          "execution_count": 34
        }
      ]
    },
    {
      "cell_type": "markdown",
      "source": [
        "Direct assignment does not work, use assignment methods instead."
      ],
      "metadata": {
        "id": "Q6tJqd4707hz"
      },
      "id": "Q6tJqd4707hz"
    },
    {
      "cell_type": "code",
      "source": [
        "v[0]"
      ],
      "metadata": {
        "id": "WBwIF5b20qZV",
        "outputId": "b88ea623-2666-45c5-87a5-55b75d693dd0",
        "colab": {
          "base_uri": "https://localhost:8080/"
        }
      },
      "id": "WBwIF5b20qZV",
      "execution_count": 35,
      "outputs": [
        {
          "output_type": "execute_result",
          "data": {
            "text/plain": [
              "<tf.Tensor: shape=(3,), dtype=float32, numpy=array([1., 2., 3.], dtype=float32)>"
            ]
          },
          "metadata": {},
          "execution_count": 35
        }
      ]
    },
    {
      "cell_type": "code",
      "source": [
        "v[0][1]"
      ],
      "metadata": {
        "id": "VmTtZ8_50_gb",
        "outputId": "98872ee0-ecb8-4dd8-9f88-ce1573a56825",
        "colab": {
          "base_uri": "https://localhost:8080/"
        }
      },
      "id": "VmTtZ8_50_gb",
      "execution_count": 36,
      "outputs": [
        {
          "output_type": "execute_result",
          "data": {
            "text/plain": [
              "<tf.Tensor: shape=(), dtype=float32, numpy=2.0>"
            ]
          },
          "metadata": {},
          "execution_count": 36
        }
      ]
    },
    {
      "cell_type": "code",
      "source": [
        "v[0][1] = 44.0"
      ],
      "metadata": {
        "id": "x3U8Br5v1Bt3",
        "outputId": "ea95b341-ea0c-4a16-f5e3-4e8782634cfe",
        "colab": {
          "base_uri": "https://localhost:8080/",
          "height": 139
        }
      },
      "id": "x3U8Br5v1Bt3",
      "execution_count": 37,
      "outputs": [
        {
          "output_type": "error",
          "ename": "TypeError",
          "evalue": "'tensorflow.python.framework.ops.EagerTensor' object does not support item assignment",
          "traceback": [
            "\u001b[0;31m---------------------------------------------------------------------------\u001b[0m",
            "\u001b[0;31mTypeError\u001b[0m                                 Traceback (most recent call last)",
            "\u001b[0;32m<ipython-input-37-704321047>\u001b[0m in \u001b[0;36m<cell line: 0>\u001b[0;34m()\u001b[0m\n\u001b[0;32m----> 1\u001b[0;31m \u001b[0mv\u001b[0m\u001b[0;34m[\u001b[0m\u001b[0;36m0\u001b[0m\u001b[0;34m]\u001b[0m\u001b[0;34m[\u001b[0m\u001b[0;36m1\u001b[0m\u001b[0;34m]\u001b[0m \u001b[0;34m=\u001b[0m \u001b[0;36m44.0\u001b[0m\u001b[0;34m\u001b[0m\u001b[0;34m\u001b[0m\u001b[0m\n\u001b[0m",
            "\u001b[0;31mTypeError\u001b[0m: 'tensorflow.python.framework.ops.EagerTensor' object does not support item assignment"
          ]
        }
      ]
    },
    {
      "cell_type": "code",
      "source": [
        "type(v[0][1])"
      ],
      "metadata": {
        "id": "BMd2YPhV1EOT",
        "outputId": "a0952387-7a9f-4c1c-d8d8-32a7ee2dd60f",
        "colab": {
          "base_uri": "https://localhost:8080/"
        }
      },
      "id": "BMd2YPhV1EOT",
      "execution_count": 38,
      "outputs": [
        {
          "output_type": "execute_result",
          "data": {
            "text/plain": [
              "tensorflow.python.framework.ops.EagerTensor"
            ]
          },
          "metadata": {},
          "execution_count": 38
        }
      ]
    },
    {
      "cell_type": "code",
      "source": [
        "v[0, 1]"
      ],
      "metadata": {
        "id": "tx3jFbJG1Iwq",
        "outputId": "9a4ec001-accf-4ca9-dc2c-376704fa6307",
        "colab": {
          "base_uri": "https://localhost:8080/"
        }
      },
      "id": "tx3jFbJG1Iwq",
      "execution_count": 40,
      "outputs": [
        {
          "output_type": "execute_result",
          "data": {
            "text/plain": [
              "<tf.Tensor: shape=(), dtype=float32, numpy=2.0>"
            ]
          },
          "metadata": {},
          "execution_count": 40
        }
      ]
    },
    {
      "cell_type": "code",
      "source": [
        "v[0, 1].assign(42.0)"
      ],
      "metadata": {
        "id": "yYhJV6311PMa",
        "outputId": "ff6c424a-9d90-416b-ea4f-bcf0bc400d31",
        "colab": {
          "base_uri": "https://localhost:8080/"
        }
      },
      "id": "yYhJV6311PMa",
      "execution_count": 41,
      "outputs": [
        {
          "output_type": "execute_result",
          "data": {
            "text/plain": [
              "<tf.Variable 'UnreadVariable' shape=(2, 3) dtype=float32, numpy=\n",
              "array([[ 1., 42.,  3.],\n",
              "       [ 4.,  5.,  6.]], dtype=float32)>"
            ]
          },
          "metadata": {},
          "execution_count": 41
        }
      ]
    },
    {
      "cell_type": "markdown",
      "source": [
        "## Customizing Models & Training Algorithms"
      ],
      "metadata": {
        "id": "EveHjj0W1ySm"
      },
      "id": "EveHjj0W1ySm"
    },
    {
      "cell_type": "markdown",
      "source": [
        "### Custom Loss Functions\n",
        "The goal is to create our own custom Loss function, although the library comes with almost all the loss functions but still if we want to write one then this is how its done."
      ],
      "metadata": {
        "id": "URi_nt1u2IfB"
      },
      "id": "URi_nt1u2IfB"
    },
    {
      "cell_type": "code",
      "source": [
        "def huber_loss(y_true, y_pred):\n",
        "  error = y_true - y_pred\n",
        "  is_small_error = tf.abs(error) < 1\n",
        "  squared_loss = tf.square(error) / 2\n",
        "  linear_loss = tf.abs(error) - 0.5\n",
        "\n",
        "  return tf.where(is_small_error, squared_loss, linear_loss)\n",
        "\n",
        "  \"\"\"\n",
        "  return tf.where(is_small_error, squared_loss, linear_loss): This line uses the tf.where operation, which acts like a conditional statement.\n",
        "  It returns elements from squared_loss where is_small_error is True, and elements from linear_loss where is_small_error is False.\n",
        "  This effectively combines the squared and linear loss components based on the magnitude of the error, implementing the Huber loss.\n",
        "  \"\"\""
      ],
      "metadata": {
        "id": "EAvE16L51dXi"
      },
      "id": "EAvE16L51dXi",
      "execution_count": 44,
      "outputs": []
    },
    {
      "cell_type": "code",
      "source": [
        "# now we can use this loss in training the model\n",
        "# model.compile(loss=huber_loss, optimizer=nadam)\n",
        "# model.fit(....)"
      ],
      "metadata": {
        "id": "uZVhioHG3QcI"
      },
      "id": "uZVhioHG3QcI",
      "execution_count": 45,
      "outputs": []
    },
    {
      "cell_type": "markdown",
      "source": [
        "When we use such custom functions for training the model, and save the model, the custom functions are not going to be saved. The saved model only contains the model arch, weights etc.\n",
        "\n",
        "So next time we load this model , we should have this custom function in place in this script plus we need to tell TF how to deserialize this custom function.\n",
        "\n",
        "Alternatively, we can also use a class based approach. Check the book."
      ],
      "metadata": {
        "id": "21AKR4825EEe"
      },
      "id": "21AKR4825EEe"
    },
    {
      "cell_type": "code",
      "source": [
        "# model = tf.keras.models.load_model(\"custom_model.keras\", custom_objects={\"huber_loss\", huber_loss})"
      ],
      "metadata": {
        "id": "EeTfh5kp36ML"
      },
      "id": "EeTfh5kp36ML",
      "execution_count": 46,
      "outputs": []
    },
    {
      "cell_type": "markdown",
      "source": [
        "### Custom layers"
      ],
      "metadata": {
        "id": "8MP90G6OAiUZ"
      },
      "id": "8MP90G6OAiUZ"
    }
  ],
  "metadata": {
    "language_info": {
      "name": "python"
    },
    "colab": {
      "provenance": [],
      "include_colab_link": true
    },
    "kernelspec": {
      "name": "python3",
      "display_name": "Python 3"
    }
  },
  "nbformat": 4,
  "nbformat_minor": 5
}