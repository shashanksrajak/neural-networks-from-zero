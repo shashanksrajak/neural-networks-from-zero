{
 "cells": [
  {
   "cell_type": "markdown",
   "id": "e88f6f1e",
   "metadata": {},
   "source": [
    "## Custom Models and Training with TensorFlow\n",
    "This chapter goes deeper into TensorFlow framework and its low level Python APIs. This is useful in two ways - first, we get to learn TensorFlow as it is in its pure form (Keras it a High Level API), second this basic knowledge helps us to take full control of the training flow, we can write custom functions, make our own transformations, optimizers, gradient descent etc etc."
   ]
  },
  {
   "cell_type": "markdown",
   "id": "a7e37a28",
   "metadata": {},
   "source": []
  }
 ],
 "metadata": {
  "language_info": {
   "name": "python"
  }
 },
 "nbformat": 4,
 "nbformat_minor": 5
}
